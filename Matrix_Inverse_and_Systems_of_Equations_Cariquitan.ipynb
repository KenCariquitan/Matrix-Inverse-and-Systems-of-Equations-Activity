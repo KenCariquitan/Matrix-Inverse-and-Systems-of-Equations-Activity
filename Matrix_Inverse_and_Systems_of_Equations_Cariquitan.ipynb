{
  "nbformat": 4,
  "nbformat_minor": 0,
  "metadata": {
    "colab": {
      "provenance": []
    },
    "kernelspec": {
      "name": "python3",
      "display_name": "Python 3"
    },
    "language_info": {
      "name": "python"
    }
  },
  "cells": [
    {
      "cell_type": "markdown",
      "source": [
        "# Student Practice Problems"
      ],
      "metadata": {
        "id": "TVxAGKOEYpy2"
      }
    },
    {
      "cell_type": "code",
      "source": [
        "\n",
        "import numpy as np"
      ],
      "metadata": {
        "id": "F1fK5kD-T2Ic"
      },
      "execution_count": 2,
      "outputs": []
    },
    {
      "cell_type": "markdown",
      "source": [
        "##Problem 1"
      ],
      "metadata": {
        "id": "-nahgyiyYxDe"
      }
    },
    {
      "cell_type": "code",
      "source": [
        "A = np.array([[3, 4],\n",
        "              [2, 5]])\n",
        "# Try to compute the inverse of matrix A\n",
        "try:\n",
        "  A_inv = np.linalg.inv(A)\n",
        "  # If successful, print the inverse\n",
        "  print(\"The inverse of matrix A is:\\n\", A_inv)\n",
        "# Catch the LinAlgError if the matrix is singular (no inverse exists)\n",
        "except np.linalg.LinAlgError:\n",
        "  print(\"No inverse exist for this matrix.\")"
      ],
      "metadata": {
        "colab": {
          "base_uri": "https://localhost:8080/"
        },
        "id": "Kx81DvMlXp47",
        "outputId": "7ffd4f48-1c55-4ee6-cad9-0301ccd6dcd1"
      },
      "execution_count": 7,
      "outputs": [
        {
          "output_type": "stream",
          "name": "stdout",
          "text": [
            "The inverse of matrix A is:\n",
            " [[ 0.71428571 -0.57142857]\n",
            " [-0.28571429  0.42857143]]\n"
          ]
        }
      ]
    },
    {
      "cell_type": "markdown",
      "source": [
        "##Problem 2"
      ],
      "metadata": {
        "id": "QWRXt8UCY0HL"
      }
    },
    {
      "cell_type": "code",
      "source": [
        "A = np.array([[2, 3], [4, -1]])  # Define matrix A\n",
        "B = np.array([7, 5])  # Define matrix B\n",
        "\n",
        "try:\n",
        "  X = np.linalg.solve(A, B)  # Solve the system of linear equations AX = B\n",
        "  # Print the solution\n",
        "  print(\"The solution is:\")\n",
        "  print(\"x =\", X[0])\n",
        "  print(\"y =\", X[1])\n",
        "except np.linalg.LinAlgError:  #\n",
        "  print(\"System cannot be solved.\")"
      ],
      "metadata": {
        "id": "hKyr8WTcXw77"
      },
      "execution_count": null,
      "outputs": []
    },
    {
      "cell_type": "markdown",
      "source": [
        "##Problem 3"
      ],
      "metadata": {
        "id": "0j1zkTfUY2eD"
      }
    },
    {
      "cell_type": "code",
      "source": [
        "A = np.array([[1, 2, 3], [0, 1, 4], [5, 6, 0]])\n",
        "\n",
        "try:\n",
        "\n",
        "# Calculate the inverse of matrix A\n",
        "  A_inv = np.linalg.inv(A)\n",
        "  print(\"The inverse of matrix_A3 is:\\n\", A_inv)\n",
        "except np.linalg.LinAlgError:\n",
        "  print(\"No inverse exist for this matrix.\")"
      ],
      "metadata": {
        "colab": {
          "base_uri": "https://localhost:8080/"
        },
        "id": "xhLBnB23VTdf",
        "outputId": "216e0923-b4b0-4334-e1e0-0e348408177e"
      },
      "execution_count": 4,
      "outputs": [
        {
          "output_type": "stream",
          "name": "stdout",
          "text": [
            "The inverse of matrix_A3 is:\n",
            " [[-24.  18.   5.]\n",
            " [ 20. -15.  -4.]\n",
            " [ -5.   4.   1.]]\n"
          ]
        }
      ]
    },
    {
      "cell_type": "markdown",
      "source": [
        "##Problem 4"
      ],
      "metadata": {
        "id": "LIxTBHvrY5tr"
      }
    },
    {
      "cell_type": "code",
      "source": [
        "# Define the coefficient matrix A and the constant vector B\n",
        "A = np.array([[1, 1, 1],\n",
        "              [2, 5, 1],\n",
        "              [2, 3, 8]])\n",
        "B = np.array([6, -4, 9])\n",
        "\n",
        "# Calculate the inverse of matrix A\n",
        "try:\n",
        "  A_inv = np.linalg.inv(A)\n",
        "\n",
        "  # Solve for the variables x, y, and z using matrix multiplication\n",
        "  X = np.dot(A_inv, B)\n",
        "\n",
        "  # Print the solution\n",
        "  print(\"Solution:\")\n",
        "  print(\"x =\", X[0])\n",
        "  print(\"y =\", X[1])\n",
        "  print(\"z =\", X[2])\n",
        "\n",
        "except np.linalg.LinAlgError:\n",
        "  print(\"No unique solution exists (singular matrix).\")"
      ],
      "metadata": {
        "colab": {
          "base_uri": "https://localhost:8080/"
        },
        "id": "lHPqtk4PWOE5",
        "outputId": "565adcd6-3a1b-45a6-f3c5-bbbcd522f6b1"
      },
      "execution_count": 5,
      "outputs": [
        {
          "output_type": "stream",
          "name": "stdout",
          "text": [
            "Solution:\n",
            "x = 10.842105263157896\n",
            "y = -5.210526315789474\n",
            "z = 0.3684210526315789\n"
          ]
        }
      ]
    },
    {
      "cell_type": "markdown",
      "source": [
        "##Problem 5"
      ],
      "metadata": {
        "id": "bvFhMyfqY7lM"
      }
    },
    {
      "cell_type": "code",
      "source": [
        "# Define the matrix A and vector b\n",
        "A = np.array([[4, -1, 0], [3, 5, 2], [-2, 4, 1]])\n",
        "b = np.array([[5], [6], [2]])\n",
        "\n",
        "# Solve for x using NumPy's linear algebra solver\n",
        "try:\n",
        "  x = np.linalg.solve(A, b)\n",
        "\n",
        "  # Print the solution\n",
        "  print(\"Solution:\")\n",
        "  print(\"x =\", x[0])\n",
        "  print(\"y =\", x[1])\n",
        "  print(\"z =\", x[2])\n",
        "\n",
        "except np.linalg.LinAlgError:\n",
        "  print(\"System cannot be solved.\")"
      ],
      "metadata": {
        "colab": {
          "base_uri": "https://localhost:8080/"
        },
        "id": "06GkCppuWs-T",
        "outputId": "e659391f-a84d-40e2-f6e1-d5369da675b7"
      },
      "execution_count": 6,
      "outputs": [
        {
          "output_type": "stream",
          "name": "stdout",
          "text": [
            "Solution:\n",
            "x = 2.5999999999999996\n",
            "y = 5.399999999999998\n",
            "z = -14.399999999999993\n"
          ]
        }
      ]
    },
    {
      "cell_type": "markdown",
      "source": [
        "##Bonus Challenge"
      ],
      "metadata": {
        "id": "w7KYmAWRZtGc"
      }
    },
    {
      "cell_type": "code",
      "source": [
        "def matrix_inverse(matrix):\n",
        "  \"\"\"\n",
        "  Checks if a given matrix is invertible and returns its inverse if it exists.\n",
        "\n",
        "  Args:\n",
        "    matrix: A NumPy array representing the matrix.\n",
        "\n",
        "  Returns:\n",
        "    The inverse of the matrix if it's invertible, otherwise None.\n",
        "  \"\"\"\n",
        "  try:\n",
        "    determinant = np.linalg.det(matrix)\n",
        "    if np.isclose(determinant, 0):  # Check for near-zero determinant\n",
        "      print(\"The matrix is not invertible (determinant is zero).\")\n",
        "      return None\n",
        "    else:\n",
        "      inverse_matrix = np.linalg.inv(matrix)\n",
        "      return inverse_matrix\n",
        "  except np.linalg.LinAlgError:\n",
        "    print(\"The matrix is not invertible.\")\n",
        "    return None"
      ],
      "metadata": {
        "id": "RAjkxiOSZhcV"
      },
      "execution_count": null,
      "outputs": []
    }
  ]
}