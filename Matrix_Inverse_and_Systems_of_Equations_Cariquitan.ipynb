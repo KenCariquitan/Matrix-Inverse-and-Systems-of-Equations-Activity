{
  "nbformat": 4,
  "nbformat_minor": 0,
  "metadata": {
    "colab": {
      "provenance": []
    },
    "kernelspec": {
      "name": "python3",
      "display_name": "Python 3"
    },
    "language_info": {
      "name": "python"
    }
  },
  "cells": [
    {
      "cell_type": "markdown",
      "source": [
        "# Student Practice Problems"
      ],
      "metadata": {
        "id": "TVxAGKOEYpy2"
      }
    },
    {
      "cell_type": "code",
      "source": [
        "\n",
        "import numpy as np"
      ],
      "metadata": {
        "id": "F1fK5kD-T2Ic"
      },
      "execution_count": 8,
      "outputs": []
    },
    {
      "cell_type": "markdown",
      "source": [
        "##Problem 1"
      ],
      "metadata": {
        "id": "-nahgyiyYxDe"
      }
    },
    {
      "cell_type": "code",
      "source": [
        "A = np.array([[3, 4],\n",
        "              [2, 5]])\n",
        "# Try to compute the inverse of matrix A\n",
        "try:\n",
        "  A_inv = np.linalg.inv(A)\n",
        "  # If successful, print the inverse\n",
        "  print(\"The inverse of matrix A is:\\n\", A_inv)\n",
        "# Catch the LinAlgError if the matrix is singular (no inverse exists)\n",
        "except np.linalg.LinAlgError:\n",
        "  print(\"No inverse exist for this matrix.\")"
      ],
      "metadata": {
        "colab": {
          "base_uri": "https://localhost:8080/"
        },
        "id": "Kx81DvMlXp47",
        "outputId": "ec33ff53-df3b-47b3-d5e8-97b9d1395a98"
      },
      "execution_count": 9,
      "outputs": [
        {
          "output_type": "stream",
          "name": "stdout",
          "text": [
            "The inverse of matrix A is:\n",
            " [[ 0.71428571 -0.57142857]\n",
            " [-0.28571429  0.42857143]]\n"
          ]
        }
      ]
    },
    {
      "cell_type": "markdown",
      "source": [
        "##Problem 2"
      ],
      "metadata": {
        "id": "QWRXt8UCY0HL"
      }
    },
    {
      "cell_type": "code",
      "source": [
        "A = np.array([[2, 3], [4, -1]])  # Define matrix A\n",
        "B = np.array([7, 5])  # Define matrix B\n",
        "\n",
        "try:\n",
        "  X = np.linalg.solve(A, B)  # Solve the system of linear equations AX = B\n",
        "  # Print the solution\n",
        "  print(\"The solution is:\")\n",
        "  print(\"x =\", X[0])\n",
        "  print(\"y =\", X[1])\n",
        "except np.linalg.LinAlgError:  #\n",
        "  print(\"System cannot be solved.\")"
      ],
      "metadata": {
        "colab": {
          "base_uri": "https://localhost:8080/"
        },
        "id": "hKyr8WTcXw77",
        "outputId": "8b1445f0-f3ed-4074-cd74-2f432c32b9c9"
      },
      "execution_count": 10,
      "outputs": [
        {
          "output_type": "stream",
          "name": "stdout",
          "text": [
            "The solution is:\n",
            "x = 1.5714285714285714\n",
            "y = 1.2857142857142858\n"
          ]
        }
      ]
    },
    {
      "cell_type": "markdown",
      "source": [
        "##Problem 3"
      ],
      "metadata": {
        "id": "0j1zkTfUY2eD"
      }
    },
    {
      "cell_type": "code",
      "source": [
        "A = np.array([[1, 2, 3], [0, 1, 4], [5, 6, 0]])\n",
        "\n",
        "try:\n",
        "\n",
        "# Calculate the inverse of matrix A\n",
        "  A_inv = np.linalg.inv(A)\n",
        "  print(\"The inverse of matrix_A3 is:\\n\", A_inv)\n",
        "except np.linalg.LinAlgError:\n",
        "  print(\"No inverse exist for this matrix.\")"
      ],
      "metadata": {
        "colab": {
          "base_uri": "https://localhost:8080/"
        },
        "id": "xhLBnB23VTdf",
        "outputId": "870382ab-9b52-42be-990e-9404d45d1fdc"
      },
      "execution_count": 11,
      "outputs": [
        {
          "output_type": "stream",
          "name": "stdout",
          "text": [
            "The inverse of matrix_A3 is:\n",
            " [[-24.  18.   5.]\n",
            " [ 20. -15.  -4.]\n",
            " [ -5.   4.   1.]]\n"
          ]
        }
      ]
    },
    {
      "cell_type": "markdown",
      "source": [
        "##Problem 4"
      ],
      "metadata": {
        "id": "LIxTBHvrY5tr"
      }
    },
    {
      "cell_type": "code",
      "source": [
        "# Define the coefficient matrix A and the constant vector B\n",
        "A = np.array([[1, 1, 1],\n",
        "              [2, 5, 1],\n",
        "              [2, 3, 8]])\n",
        "B = np.array([6, -4, 9])\n",
        "\n",
        "# Calculate the inverse of matrix A\n",
        "try:\n",
        "  A_inv = np.linalg.inv(A)\n",
        "\n",
        "  # Solve for the variables x, y, and z using matrix multiplication\n",
        "  X = np.dot(A_inv, B)\n",
        "\n",
        "  # Print the solution\n",
        "  print(\"Solution:\")\n",
        "  print(\"x =\", X[0])\n",
        "  print(\"y =\", X[1])\n",
        "  print(\"z =\", X[2])\n",
        "\n",
        "except np.linalg.LinAlgError:\n",
        "  print(\"No unique solution exists (singular matrix).\")"
      ],
      "metadata": {
        "colab": {
          "base_uri": "https://localhost:8080/"
        },
        "id": "lHPqtk4PWOE5",
        "outputId": "355adf1a-75f7-4752-cef7-4f2622a75987"
      },
      "execution_count": 12,
      "outputs": [
        {
          "output_type": "stream",
          "name": "stdout",
          "text": [
            "Solution:\n",
            "x = 10.842105263157896\n",
            "y = -5.210526315789474\n",
            "z = 0.3684210526315789\n"
          ]
        }
      ]
    },
    {
      "cell_type": "markdown",
      "source": [
        "##Problem 5"
      ],
      "metadata": {
        "id": "bvFhMyfqY7lM"
      }
    },
    {
      "cell_type": "code",
      "source": [
        "# Define the matrix A and vector b\n",
        "A = np.array([[4, -1, 0], [3, 5, 2], [-2, 4, 1]])\n",
        "b = np.array([[5], [6], [2]])\n",
        "\n",
        "# Solve for x using NumPy's linear algebra solver\n",
        "try:\n",
        "  x = np.linalg.solve(A, b)\n",
        "\n",
        "  # Print the solution\n",
        "  print(\"Solution:\")\n",
        "  print(\"x =\", x[0])\n",
        "  print(\"y =\", x[1])\n",
        "  print(\"z =\", x[2])\n",
        "\n",
        "except np.linalg.LinAlgError:\n",
        "  print(\"System cannot be solved.\")"
      ],
      "metadata": {
        "colab": {
          "base_uri": "https://localhost:8080/"
        },
        "id": "06GkCppuWs-T",
        "outputId": "5aa1c7a1-91af-4e20-9dd8-a1080e20294f"
      },
      "execution_count": 13,
      "outputs": [
        {
          "output_type": "stream",
          "name": "stdout",
          "text": [
            "Solution:\n",
            "x = [2.6]\n",
            "y = [5.4]\n",
            "z = [-14.4]\n"
          ]
        }
      ]
    },
    {
      "cell_type": "markdown",
      "source": [
        "##Bonus Challenge"
      ],
      "metadata": {
        "id": "w7KYmAWRZtGc"
      }
    },
    {
      "cell_type": "code",
      "source": [
        "def matrix_inverse(matrix):\n",
        "  \"\"\"\n",
        "  Checks if a given matrix is invertible and returns its inverse if it exists.\n",
        "\n",
        "  Args:\n",
        "    matrix: A NumPy array representing the matrix.\n",
        "\n",
        "  Returns:\n",
        "    The inverse of the matrix if it's invertible, otherwise None.\n",
        "  \"\"\"\n",
        "  try:\n",
        "    determinant = np.linalg.det(matrix)\n",
        "    if np.isclose(determinant, 0):  # Check for near-zero determinant\n",
        "      print(\"The matrix is not invertible (determinant is zero).\")\n",
        "      return None\n",
        "    else:\n",
        "      inverse_matrix = np.linalg.inv(matrix)\n",
        "      return inverse_matrix\n",
        "  except np.linalg.LinAlgError:\n",
        "    print(\"The matrix is not invertible.\")\n",
        "    return None"
      ],
      "metadata": {
        "id": "RAjkxiOSZhcV"
      },
      "execution_count": 14,
      "outputs": []
    }
  ]
}